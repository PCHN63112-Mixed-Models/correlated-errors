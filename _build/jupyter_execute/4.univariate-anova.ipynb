{
 "cells": [
  {
   "cell_type": "markdown",
   "id": "bde1ccab-2d89-4ccf-aca6-dbea239a0625",
   "metadata": {},
   "source": [
    "# The Univeriate Repeated-measures ANOVA\n"
   ]
  },
  {
   "cell_type": "markdown",
   "id": "b0025798-daa1-475d-b3f3-ed1ac8da1a0c",
   "metadata": {},
   "source": [
    "## Adding Between-subjects Factors\n",
    "\n",
    "... So what is the correct error here? The obvious, and correct, answer is that it is the *between-subjects* error. So how do we use this in our test statistics? At present, all we have done is *removed* the between-subjects error by including the `Subject` factor in our models. However, we somehow have to use this removed error as the denominator in tests that are based on between-subjects effects."
   ]
  },
  {
   "cell_type": "markdown",
   "id": "06a1c666-eb8c-43eb-9203-55d7fb758d15",
   "metadata": {},
   "source": [
    "### Partitioned Error Models\n",
    "\n",
    "... the difference is that, rather than including the `Subject` factor as something to be estimated and tested (like any other regression coefficients), we instead want to just use these effects for the purpose of estimating the *between-subjects* variance. We already saw from previous examples that the effects of `Subject` are not interesting, as we simply ignored them. Indeed, the $t$-tests and $p$-values and other automatic treatments of these coefficients were both *uninteresting* and *unnecessary*, which is a hint to the fact that we were not really using this factor correctly when adding it to the linear model in this way. This is because `Subject` was, in fact, something known as a *random-effect*.\n",
    "\n",
    "...This distinction between something we want to directly estimate and test and something that is used for calculating varirance is the difference between *fixed-effects* and *random-effects*. As such, in order to use the `Subject` factor in this way, it must be treated as a *random-effect*.\n",
    "\n",
    "...We have already seen models that contain random variables, as every single linear model so far has contained a *random error term*. As such, \n",
    "\n",
    "...The way the ANOVA calculated this error is through the usual decomposition of sums-of-squares...If we run an ANOVA on the paired model from earlier, we can see the *mean-squares* for the subejct effects. This *is* the estimate of the between-subejcts variance..."
   ]
  },
  {
   "cell_type": "code",
   "execution_count": null,
   "id": "8b66d2d9-9c81-478c-a0d9-6b8ed9add05a",
   "metadata": {},
   "outputs": [],
   "source": []
  }
 ],
 "metadata": {
  "kernelspec": {
   "display_name": "R",
   "language": "R",
   "name": "ir"
  },
  "language_info": {
   "codemirror_mode": "r",
   "file_extension": ".r",
   "mimetype": "text/x-r-source",
   "name": "R",
   "pygments_lexer": "r",
   "version": "4.4.3"
  }
 },
 "nbformat": 4,
 "nbformat_minor": 5
}