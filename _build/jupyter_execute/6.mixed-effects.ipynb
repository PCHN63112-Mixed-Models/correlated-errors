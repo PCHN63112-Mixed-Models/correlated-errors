{
 "cells": [
  {
   "cell_type": "markdown",
   "id": "bde1ccab-2d89-4ccf-aca6-dbea239a0625",
   "metadata": {},
   "source": [
    "# Introducing Mixed-effects Models\n"
   ]
  },
  {
   "cell_type": "markdown",
   "id": "27b478e3-bc72-40c1-b497-a0c8d293afcb",
   "metadata": {},
   "source": [
    "`````{admonition} Variable Terminology\n",
    ":class: tip\n",
    "Note that mixed-effects models are also known as *random-effects models*, *linear mixed models* and *hierarchical linear models*. These are all exactly the same thing, so try not to get confused if you come across these different terms.\n",
    "`````"
   ]
  },
  {
   "cell_type": "markdown",
   "id": "6d2144ea-ecc4-478d-908e-61a2d89902d7",
   "metadata": {},
   "source": [
    "## The `lme4` Package\n",
    "\n",
    "We will learn much more about the syntax and theory behind these methods as this unit progresses. For now, just notice how we can recreate the univariate repeated-measures ANOVA results using the `lmer()` function"
   ]
  },
  {
   "cell_type": "code",
   "execution_count": 5,
   "id": "b575129e-a103-47d1-845e-c3d9da4ebd52",
   "metadata": {},
   "outputs": [
    {
     "name": "stderr",
     "output_type": "stream",
     "text": [
      "Loading required package: Matrix\n",
      "\n",
      "Warning message in check_dep_version():\n",
      "“ABI version mismatch: \n",
      "lme4 was built with Matrix ABI version 1\n",
      "Current Matrix ABI version is 2\n",
      "Please re-install lme4 from source or restore original ‘Matrix’ package”\n"
     ]
    }
   ],
   "source": [
    "library('lme4')"
   ]
  },
  {
   "cell_type": "markdown",
   "id": "0fb05b87-7323-4d8c-8225-36eecb53422f",
   "metadata": {},
   "source": [
    "Although this is useful, the power of mixed-effects models is that they can do much more than the traditional repeated measures ANOVA. Also, notice that the correct tests have been produced automatically for each effect, without any need to identify the correct error term. This alone is a big advantage over the traditional repeated-measures ANOVA."
   ]
  },
  {
   "cell_type": "code",
   "execution_count": null,
   "id": "90aa6e16-1bfe-4ede-acca-eaa70419bcaa",
   "metadata": {},
   "outputs": [],
   "source": []
  }
 ],
 "metadata": {
  "kernelspec": {
   "display_name": "R",
   "language": "R",
   "name": "ir"
  },
  "language_info": {
   "codemirror_mode": "r",
   "file_extension": ".r",
   "mimetype": "text/x-r-source",
   "name": "R",
   "pygments_lexer": "r",
   "version": "4.4.2"
  }
 },
 "nbformat": 4,
 "nbformat_minor": 5
}