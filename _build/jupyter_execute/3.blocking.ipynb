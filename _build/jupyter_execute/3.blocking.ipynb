{
 "cells": [
  {
   "cell_type": "markdown",
   "id": "bde1ccab-2d89-4ccf-aca6-dbea239a0625",
   "metadata": {},
   "source": [
    "# The Statistical Concept of *Blocking*\n",
    "\n",
    "Repeated measurement designs are not unique to Psychology. In fact, these forms of design correspond to the more general concept of *blocking*, from the field of statistical experimental design."
   ]
  },
  {
   "cell_type": "markdown",
   "id": "30f4aac5-72a4-49ba-b8d6-c73502ec532f",
   "metadata": {},
   "source": [
    "## Examples of Blocked Designs"
   ]
  },
  {
   "cell_type": "markdown",
   "id": "90f6f770-a82f-49c8-9f85-d70ac126c210",
   "metadata": {},
   "source": [
    "## The Purpose of Blocking"
   ]
  },
  {
   "cell_type": "code",
   "execution_count": null,
   "id": "7485d909-6b5e-4890-9082-2c81eef8b5d5",
   "metadata": {},
   "outputs": [],
   "source": []
  }
 ],
 "metadata": {
  "kernelspec": {
   "display_name": "R",
   "language": "R",
   "name": "ir"
  },
  "language_info": {
   "codemirror_mode": "r",
   "file_extension": ".r",
   "mimetype": "text/x-r-source",
   "name": "R",
   "pygments_lexer": "r",
   "version": "4.4.3"
  }
 },
 "nbformat": 4,
 "nbformat_minor": 5
}