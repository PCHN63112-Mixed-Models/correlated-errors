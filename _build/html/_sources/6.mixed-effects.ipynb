{
 "cells": [
  {
   "cell_type": "markdown",
   "id": "bde1ccab-2d89-4ccf-aca6-dbea239a0625",
   "metadata": {
    "editable": true,
    "slideshow": {
     "slide_type": ""
    },
    "tags": []
   },
   "source": [
    "# Introducing Mixed-effects Models\n"
   ]
  },
  {
   "cell_type": "markdown",
   "id": "27b478e3-bc72-40c1-b497-a0c8d293afcb",
   "metadata": {
    "editable": true,
    "slideshow": {
     "slide_type": ""
    },
    "tags": []
   },
   "source": [
    "`````{admonition} Variable Terminology\n",
    ":class: tip\n",
    "Note that mixed-effects models are also known as *random-effects models*, *linear mixed models* and *hierarchical linear models*. These are all exactly the same thing, so try not to get confused if you come across these different terms.\n",
    "`````"
   ]
  },
  {
   "cell_type": "markdown",
   "id": "6d2144ea-ecc4-478d-908e-61a2d89902d7",
   "metadata": {
    "editable": true,
    "slideshow": {
     "slide_type": ""
    },
    "tags": []
   },
   "source": [
    "## The `lme4` Package\n",
    "\n",
    "We will learn much more about the syntax and theory behind these methods as this unit progresses. For now, just notice what happens when we specify the same paired $t$-test from earlier, but with `subject` specifically treated as a random effect."
   ]
  },
  {
   "cell_type": "code",
   "execution_count": 5,
   "id": "40f936b5-5590-457c-92f4-5211e3303b2c",
   "metadata": {
    "editable": true,
    "slideshow": {
     "slide_type": ""
    },
    "tags": [
     "remove-cell"
    ]
   },
   "outputs": [],
   "source": [
    "library('matrixcalc')\n",
    "library('MASS')\n",
    "set.seed(666)\n",
    "\n",
    "var1  <- 1\n",
    "var2  <- 1\n",
    "rho   <- 0.8\n",
    "covar <- rho*var1*var2\n",
    "\n",
    "Sigma <- matrix(data=c(var1,covar,covar,var2), nrow=2, ncol=2)\n",
    "y     <- mvrnorm(n=50, mu=c(1,1.25), Sigma=Sigma)\n",
    "\n",
    "\n",
    "y.long  <- vec(t(y))          # Turn y into a column\n",
    "cond    <- rep(c(\"A\",\"B\"),50) # Create a predictor for the two conditions\n",
    "subject <- matrix(data=c(seq(1,50),seq(1,50)), nrow=50, ncol=2)\n",
    "subject <- vec(t(subject))\n",
    "subject <- as.factor(subject)"
   ]
  },
  {
   "cell_type": "code",
   "execution_count": 11,
   "id": "b34abd3a-f5f0-4560-b6a2-20dbb69e75c6",
   "metadata": {
    "editable": true,
    "slideshow": {
     "slide_type": ""
    },
    "tags": []
   },
   "outputs": [
    {
     "data": {
      "text/plain": [
       "Linear mixed model fit by REML ['lmerMod']\n",
       "Formula: y.long ~ cond + (1 | subject)\n",
       "\n",
       "REML criterion at convergence: 240.6\n",
       "\n",
       "Scaled residuals: \n",
       "    Min      1Q  Median      3Q     Max \n",
       "-2.4842 -0.5269 -0.0009  0.4361  1.9063 \n",
       "\n",
       "Random effects:\n",
       " Groups   Name        Variance Std.Dev.\n",
       " subject  (Intercept) 1.0694   1.0341  \n",
       " Residual             0.1715   0.4141  \n",
       "Number of obs: 100, groups:  subject, 50\n",
       "\n",
       "Fixed effects:\n",
       "            Estimate Std. Error t value\n",
       "(Intercept)  0.96020    0.15753   6.095\n",
       "condB        0.20666    0.08282   2.495\n",
       "\n",
       "Correlation of Fixed Effects:\n",
       "      (Intr)\n",
       "condB -0.263"
      ]
     },
     "metadata": {},
     "output_type": "display_data"
    }
   ],
   "source": [
    "library('lme4')\n",
    "\n",
    "# Mixed Model\n",
    "mix.mod <- lmer(y.long ~ cond + (1|subject))\n",
    "summary(mix.mod)"
   ]
  },
  {
   "cell_type": "markdown",
   "id": "0fb05b87-7323-4d8c-8225-36eecb53422f",
   "metadata": {
    "editable": true,
    "slideshow": {
     "slide_type": ""
    },
    "tags": []
   },
   "source": [
    "Although this is useful, the power of mixed-effects models is that they can do much more than the traditional repeated measures ANOVA. Also, notice that the correct tests have been produced automatically for each effect, without any need to identify the correct error term. This alone is a big advantage over the traditional repeated-measures ANOVA."
   ]
  },
  {
   "cell_type": "code",
   "execution_count": null,
   "id": "90aa6e16-1bfe-4ede-acca-eaa70419bcaa",
   "metadata": {
    "editable": true,
    "slideshow": {
     "slide_type": ""
    },
    "tags": []
   },
   "outputs": [],
   "source": []
  }
 ],
 "metadata": {
  "kernelspec": {
   "display_name": "R",
   "language": "R",
   "name": "ir"
  },
  "language_info": {
   "codemirror_mode": "r",
   "file_extension": ".r",
   "mimetype": "text/x-r-source",
   "name": "R",
   "pygments_lexer": "r",
   "version": "4.4.2"
  }
 },
 "nbformat": 4,
 "nbformat_minor": 5
}
